{
 "cells": [
  {
   "cell_type": "markdown",
   "id": "14b96833",
   "metadata": {},
   "source": [
    "# Investigating Online User Decision Process Project \n",
    "\n",
    "Project Showcase Notice: This code contains code and materials for the purpose of showcasing the project. Please note that sensitive and official parts of the project have been either partially or totally removed.\n",
    "\n",
    "Purpose: The content provided here is intended to demonstrate the capabilities, design patterns, and methodologies employed in the project. It is not meant for production use and may lack certain functionalities that are part of the full, official version.\n",
    "\n",
    "Limitations:\n",
    "- **Sensitive Information**: Any sensitive information, including but not limited to private keys, credentials, and personal data, has been removed or anonymized.\n",
    "- **Partial Functionality**: Some sections of the code may have been modified or omitted to ensure the security and privacy of the underlying system or data. As such, the repository may not represent the full functionality of the original project.\n",
    "- **Showcase Only**: The provided code and documents are intended for viewing and demonstration purposes only."
   ]
  },
  {
   "cell_type": "markdown",
   "id": "9d241b93",
   "metadata": {},
   "source": [
    "# Import Python Package/Module and Data"
   ]
  },
  {
   "cell_type": "code",
   "execution_count": 3,
   "id": "d4280585",
   "metadata": {},
   "outputs": [],
   "source": [
    "import pandas as pd\n",
    "import numpy as np\n",
    "\n",
    "from sklearn.tree import export_graphviz\n",
    "import matplotlib.pyplot as plt"
   ]
  },
  {
   "cell_type": "code",
   "execution_count": 4,
   "id": "7b91e208",
   "metadata": {},
   "outputs": [],
   "source": [
    "original_df = pd.read_csv('//InternalUseOnly...csv')"
   ]
  },
  {
   "cell_type": "code",
   "execution_count": 5,
   "id": "653d5f9e",
   "metadata": {},
   "outputs": [],
   "source": [
    "df = original_df.copy()"
   ]
  },
  {
   "cell_type": "markdown",
   "id": "ccfca2e6",
   "metadata": {},
   "source": [
    "# Exploratory data analysis"
   ]
  },
  {
   "cell_type": "code",
   "execution_count": 6,
   "id": "b0147fda",
   "metadata": {},
   "outputs": [
    {
     "data": {
      "text/plain": [
       "(24725, 57)"
      ]
     },
     "execution_count": 6,
     "metadata": {},
     "output_type": "execute_result"
    }
   ],
   "source": [
    "original_df.shape"
   ]
  },
  {
   "cell_type": "code",
   "execution_count": 5,
   "id": "f021f028",
   "metadata": {
    "scrolled": true
   },
   "outputs": [
    {
     "data": {
      "text/plain": [
       "Index(['categoryR', 'countryR', 'backersR', 'fundedR', 'goalR',\n",
       "       'percentage_fundedR', 'durationR', 'start_deliveryR', 'total_durationR',\n",
       "       'level_pledgesR', 'new.backersR', 'existing.backersR', 'updateR',\n",
       "       'yearR', 'currencyR', 'first_videoR', 'projects_launchedR',\n",
       "       'projects_backedR', 'categoryrGroup', 'categoryrGroupF',\n",
       "       'categoryGroupFO', 'Art', 'Comics', 'Crafts', 'Dance', 'Design',\n",
       "       'Fashion', 'FilmVideo', 'Food', 'Games', 'Journalism', 'Music',\n",
       "       'Photography', 'Publishing', 'Technology', 'Theater', 'fundedR.log',\n",
       "       'goalR.log', 'percentage_fundedR100', 'year.2011', 'year.2012',\n",
       "       'year.2013', 'year.2014', 'year.2015', 'year.2016', 'year.2017',\n",
       "       'year.2018', 'year.2019', 'first_videoF', 'first_videoTrue',\n",
       "       'first_videoFalse', 'projects_launchedF', 'projects_launchedYes',\n",
       "       'projects_launchedNo', 'projects_backedF', 'projects_backedYes',\n",
       "       'projects_backedNo'],\n",
       "      dtype='object')"
      ]
     },
     "execution_count": 5,
     "metadata": {},
     "output_type": "execute_result"
    }
   ],
   "source": [
    "original_df.columns"
   ]
  },
  {
   "cell_type": "code",
   "execution_count": 8,
   "id": "c1a44dd5",
   "metadata": {},
   "outputs": [
    {
     "name": "stdout",
     "output_type": "stream",
     "text": [
      "<class 'pandas.core.frame.DataFrame'>\n",
      "RangeIndex: 24725 entries, 0 to 24724\n",
      "Data columns (total 57 columns):\n",
      " #   Column                 Non-Null Count  Dtype  \n",
      "---  ------                 --------------  -----  \n",
      " 0   categoryR              24725 non-null  object \n",
      " 1   countryR               24725 non-null  object \n",
      " 2   backersR               24725 non-null  int64  \n",
      " 3   fundedR                24725 non-null  int64  \n",
      " 4   goalR                  24725 non-null  float64\n",
      " 5   percentage_fundedR     24725 non-null  int64  \n",
      " 6   durationR              24725 non-null  int64  \n",
      " 7   start_deliveryR        24725 non-null  int64  \n",
      " 8   total_durationR        24725 non-null  int64  \n",
      " 9   level_pledgesR         24725 non-null  int64  \n",
      " 10  new.backersR           24725 non-null  int64  \n",
      " 11  existing.backersR      24725 non-null  int64  \n",
      " 12  updateR                24725 non-null  int64  \n",
      " 13  yearR                  24725 non-null  int64  \n",
      " 14  currencyR              24725 non-null  object \n",
      " 15  first_videoR           24725 non-null  bool   \n",
      " 16  projects_launchedR     24725 non-null  int64  \n",
      " 17  projects_backedR       24725 non-null  int64  \n",
      " 18  categoryrGroup         24725 non-null  object \n",
      " 19  categoryrGroupF        24725 non-null  object \n",
      " 20  categoryGroupFO        24725 non-null  int64  \n",
      " 21  Art                    24725 non-null  int64  \n",
      " 22  Comics                 24725 non-null  int64  \n",
      " 23  Crafts                 24725 non-null  int64  \n",
      " 24  Dance                  24725 non-null  int64  \n",
      " 25  Design                 24725 non-null  int64  \n",
      " 26  Fashion                24725 non-null  int64  \n",
      " 27  FilmVideo              24725 non-null  int64  \n",
      " 28  Food                   24725 non-null  int64  \n",
      " 29  Games                  24725 non-null  int64  \n",
      " 30  Journalism             24725 non-null  int64  \n",
      " 31  Music                  24725 non-null  int64  \n",
      " 32  Photography            24725 non-null  int64  \n",
      " 33  Publishing             24725 non-null  int64  \n",
      " 34  Technology             24725 non-null  int64  \n",
      " 35  Theater                24725 non-null  int64  \n",
      " 36  fundedR.log            24725 non-null  float64\n",
      " 37  goalR.log              24725 non-null  float64\n",
      " 38  percentage_fundedR100  24725 non-null  int64  \n",
      " 39  year.2011              24725 non-null  int64  \n",
      " 40  year.2012              24725 non-null  int64  \n",
      " 41  year.2013              24725 non-null  int64  \n",
      " 42  year.2014              24725 non-null  int64  \n",
      " 43  year.2015              24725 non-null  int64  \n",
      " 44  year.2016              24725 non-null  int64  \n",
      " 45  year.2017              24725 non-null  int64  \n",
      " 46  year.2018              24725 non-null  int64  \n",
      " 47  year.2019              24725 non-null  int64  \n",
      " 48  first_videoF           24725 non-null  bool   \n",
      " 49  first_videoTrue        24725 non-null  int64  \n",
      " 50  first_videoFalse       24725 non-null  int64  \n",
      " 51  projects_launchedF     24725 non-null  int64  \n",
      " 52  projects_launchedYes   24725 non-null  int64  \n",
      " 53  projects_launchedNo    24725 non-null  int64  \n",
      " 54  projects_backedF       24725 non-null  int64  \n",
      " 55  projects_backedYes     24725 non-null  int64  \n",
      " 56  projects_backedNo      24725 non-null  int64  \n",
      "dtypes: bool(2), float64(3), int64(47), object(5)\n",
      "memory usage: 10.4+ MB\n"
     ]
    }
   ],
   "source": [
    "original_df.info()"
   ]
  },
  {
   "cell_type": "code",
   "execution_count": 6,
   "id": "a97c1937",
   "metadata": {},
   "outputs": [
    {
     "data": {
      "text/html": [
       "<div>\n",
       "<style scoped>\n",
       "    .dataframe tbody tr th:only-of-type {\n",
       "        vertical-align: middle;\n",
       "    }\n",
       "\n",
       "    .dataframe tbody tr th {\n",
       "        vertical-align: top;\n",
       "    }\n",
       "\n",
       "    .dataframe thead th {\n",
       "        text-align: right;\n",
       "    }\n",
       "</style>\n",
       "<table border=\"1\" class=\"dataframe\">\n",
       "  <thead>\n",
       "    <tr style=\"text-align: right;\">\n",
       "      <th></th>\n",
       "      <th>categoryR</th>\n",
       "      <th>countryR</th>\n",
       "      <th>backersR</th>\n",
       "      <th>fundedR</th>\n",
       "      <th>goalR</th>\n",
       "      <th>percentage_fundedR</th>\n",
       "      <th>durationR</th>\n",
       "      <th>start_deliveryR</th>\n",
       "      <th>total_durationR</th>\n",
       "      <th>level_pledgesR</th>\n",
       "      <th>...</th>\n",
       "      <th>year.2019</th>\n",
       "      <th>first_videoF</th>\n",
       "      <th>first_videoTrue</th>\n",
       "      <th>first_videoFalse</th>\n",
       "      <th>projects_launchedF</th>\n",
       "      <th>projects_launchedYes</th>\n",
       "      <th>projects_launchedNo</th>\n",
       "      <th>projects_backedF</th>\n",
       "      <th>projects_backedYes</th>\n",
       "      <th>projects_backedNo</th>\n",
       "    </tr>\n",
       "  </thead>\n",
       "  <tbody>\n",
       "    <tr>\n",
       "      <th>0</th>\n",
       "      <td>Sculpture</td>\n",
       "      <td>Minneapolis, MN</td>\n",
       "      <td>1992</td>\n",
       "      <td>1924018</td>\n",
       "      <td>50000.0</td>\n",
       "      <td>38</td>\n",
       "      <td>30</td>\n",
       "      <td>38</td>\n",
       "      <td>68</td>\n",
       "      <td>20</td>\n",
       "      <td>...</td>\n",
       "      <td>0</td>\n",
       "      <td>True</td>\n",
       "      <td>1</td>\n",
       "      <td>0</td>\n",
       "      <td>1</td>\n",
       "      <td>1</td>\n",
       "      <td>0</td>\n",
       "      <td>1</td>\n",
       "      <td>1</td>\n",
       "      <td>0</td>\n",
       "    </tr>\n",
       "    <tr>\n",
       "      <th>1</th>\n",
       "      <td>Social Practice</td>\n",
       "      <td>Seattle, WA</td>\n",
       "      <td>22840</td>\n",
       "      <td>1365105</td>\n",
       "      <td>60000.0</td>\n",
       "      <td>23</td>\n",
       "      <td>8</td>\n",
       "      <td>14</td>\n",
       "      <td>22</td>\n",
       "      <td>24</td>\n",
       "      <td>...</td>\n",
       "      <td>0</td>\n",
       "      <td>True</td>\n",
       "      <td>1</td>\n",
       "      <td>0</td>\n",
       "      <td>1</td>\n",
       "      <td>1</td>\n",
       "      <td>0</td>\n",
       "      <td>0</td>\n",
       "      <td>0</td>\n",
       "      <td>1</td>\n",
       "    </tr>\n",
       "    <tr>\n",
       "      <th>2</th>\n",
       "      <td>Mixed Media</td>\n",
       "      <td>Sterling, VA</td>\n",
       "      <td>5030</td>\n",
       "      <td>1226811</td>\n",
       "      <td>38000.0</td>\n",
       "      <td>32</td>\n",
       "      <td>30</td>\n",
       "      <td>73</td>\n",
       "      <td>103</td>\n",
       "      <td>18</td>\n",
       "      <td>...</td>\n",
       "      <td>0</td>\n",
       "      <td>True</td>\n",
       "      <td>1</td>\n",
       "      <td>0</td>\n",
       "      <td>1</td>\n",
       "      <td>1</td>\n",
       "      <td>0</td>\n",
       "      <td>1</td>\n",
       "      <td>1</td>\n",
       "      <td>0</td>\n",
       "    </tr>\n",
       "    <tr>\n",
       "      <th>3</th>\n",
       "      <td>Art</td>\n",
       "      <td>Fairfax, VA</td>\n",
       "      <td>3254</td>\n",
       "      <td>1068328</td>\n",
       "      <td>160000.0</td>\n",
       "      <td>7</td>\n",
       "      <td>30</td>\n",
       "      <td>56</td>\n",
       "      <td>86</td>\n",
       "      <td>14</td>\n",
       "      <td>...</td>\n",
       "      <td>0</td>\n",
       "      <td>True</td>\n",
       "      <td>1</td>\n",
       "      <td>0</td>\n",
       "      <td>1</td>\n",
       "      <td>1</td>\n",
       "      <td>0</td>\n",
       "      <td>1</td>\n",
       "      <td>1</td>\n",
       "      <td>0</td>\n",
       "    </tr>\n",
       "    <tr>\n",
       "      <th>4</th>\n",
       "      <td>Art</td>\n",
       "      <td>Fairfax, VA</td>\n",
       "      <td>3290</td>\n",
       "      <td>1003874</td>\n",
       "      <td>200000.0</td>\n",
       "      <td>5</td>\n",
       "      <td>30</td>\n",
       "      <td>84</td>\n",
       "      <td>114</td>\n",
       "      <td>14</td>\n",
       "      <td>...</td>\n",
       "      <td>0</td>\n",
       "      <td>True</td>\n",
       "      <td>1</td>\n",
       "      <td>0</td>\n",
       "      <td>1</td>\n",
       "      <td>1</td>\n",
       "      <td>0</td>\n",
       "      <td>1</td>\n",
       "      <td>1</td>\n",
       "      <td>0</td>\n",
       "    </tr>\n",
       "  </tbody>\n",
       "</table>\n",
       "<p>5 rows × 57 columns</p>\n",
       "</div>"
      ],
      "text/plain": [
       "         categoryR         countryR  backersR  fundedR     goalR  \\\n",
       "0        Sculpture  Minneapolis, MN      1992  1924018   50000.0   \n",
       "1  Social Practice      Seattle, WA     22840  1365105   60000.0   \n",
       "2      Mixed Media     Sterling, VA      5030  1226811   38000.0   \n",
       "3              Art      Fairfax, VA      3254  1068328  160000.0   \n",
       "4              Art      Fairfax, VA      3290  1003874  200000.0   \n",
       "\n",
       "   percentage_fundedR  durationR  start_deliveryR  total_durationR  \\\n",
       "0                  38         30               38               68   \n",
       "1                  23          8               14               22   \n",
       "2                  32         30               73              103   \n",
       "3                   7         30               56               86   \n",
       "4                   5         30               84              114   \n",
       "\n",
       "   level_pledgesR  ...  year.2019  first_videoF  first_videoTrue  \\\n",
       "0              20  ...          0          True                1   \n",
       "1              24  ...          0          True                1   \n",
       "2              18  ...          0          True                1   \n",
       "3              14  ...          0          True                1   \n",
       "4              14  ...          0          True                1   \n",
       "\n",
       "   first_videoFalse projects_launchedF  projects_launchedYes  \\\n",
       "0                 0                  1                     1   \n",
       "1                 0                  1                     1   \n",
       "2                 0                  1                     1   \n",
       "3                 0                  1                     1   \n",
       "4                 0                  1                     1   \n",
       "\n",
       "   projects_launchedNo  projects_backedF projects_backedYes projects_backedNo  \n",
       "0                    0                 1                  1                 0  \n",
       "1                    0                 0                  0                 1  \n",
       "2                    0                 1                  1                 0  \n",
       "3                    0                 1                  1                 0  \n",
       "4                    0                 1                  1                 0  \n",
       "\n",
       "[5 rows x 57 columns]"
      ]
     },
     "execution_count": 6,
     "metadata": {},
     "output_type": "execute_result"
    }
   ],
   "source": [
    "original_df.head()"
   ]
  },
  {
   "cell_type": "code",
   "execution_count": 7,
   "id": "6a613654",
   "metadata": {},
   "outputs": [
    {
     "data": {
      "text/html": [
       "<div>\n",
       "<style scoped>\n",
       "    .dataframe tbody tr th:only-of-type {\n",
       "        vertical-align: middle;\n",
       "    }\n",
       "\n",
       "    .dataframe tbody tr th {\n",
       "        vertical-align: top;\n",
       "    }\n",
       "\n",
       "    .dataframe thead th {\n",
       "        text-align: right;\n",
       "    }\n",
       "</style>\n",
       "<table border=\"1\" class=\"dataframe\">\n",
       "  <thead>\n",
       "    <tr style=\"text-align: right;\">\n",
       "      <th></th>\n",
       "      <th>backersR</th>\n",
       "      <th>fundedR</th>\n",
       "      <th>goalR</th>\n",
       "      <th>percentage_fundedR</th>\n",
       "      <th>durationR</th>\n",
       "      <th>start_deliveryR</th>\n",
       "      <th>total_durationR</th>\n",
       "      <th>level_pledgesR</th>\n",
       "      <th>new.backersR</th>\n",
       "      <th>existing.backersR</th>\n",
       "      <th>...</th>\n",
       "      <th>year.2018</th>\n",
       "      <th>year.2019</th>\n",
       "      <th>first_videoTrue</th>\n",
       "      <th>first_videoFalse</th>\n",
       "      <th>projects_launchedF</th>\n",
       "      <th>projects_launchedYes</th>\n",
       "      <th>projects_launchedNo</th>\n",
       "      <th>projects_backedF</th>\n",
       "      <th>projects_backedYes</th>\n",
       "      <th>projects_backedNo</th>\n",
       "    </tr>\n",
       "  </thead>\n",
       "  <tbody>\n",
       "    <tr>\n",
       "      <th>count</th>\n",
       "      <td>24725.000000</td>\n",
       "      <td>2.472500e+04</td>\n",
       "      <td>24725.000000</td>\n",
       "      <td>24725.000000</td>\n",
       "      <td>24725.000000</td>\n",
       "      <td>24725.000000</td>\n",
       "      <td>24725.000000</td>\n",
       "      <td>24725.000000</td>\n",
       "      <td>24725.000000</td>\n",
       "      <td>24725.000000</td>\n",
       "      <td>...</td>\n",
       "      <td>24725.000000</td>\n",
       "      <td>24725.000000</td>\n",
       "      <td>24725.000000</td>\n",
       "      <td>24725.000000</td>\n",
       "      <td>24725.000000</td>\n",
       "      <td>24725.000000</td>\n",
       "      <td>24725.000000</td>\n",
       "      <td>24725.000000</td>\n",
       "      <td>24725.000000</td>\n",
       "      <td>24725.000000</td>\n",
       "    </tr>\n",
       "    <tr>\n",
       "      <th>mean</th>\n",
       "      <td>955.292781</td>\n",
       "      <td>9.715229e+04</td>\n",
       "      <td>26956.475470</td>\n",
       "      <td>4.633812</td>\n",
       "      <td>32.593488</td>\n",
       "      <td>84.254843</td>\n",
       "      <td>116.848332</td>\n",
       "      <td>13.213994</td>\n",
       "      <td>265.704348</td>\n",
       "      <td>689.588433</td>\n",
       "      <td>...</td>\n",
       "      <td>0.101678</td>\n",
       "      <td>0.096825</td>\n",
       "      <td>0.920364</td>\n",
       "      <td>0.079636</td>\n",
       "      <td>0.427745</td>\n",
       "      <td>0.427745</td>\n",
       "      <td>0.572255</td>\n",
       "      <td>0.804894</td>\n",
       "      <td>0.804894</td>\n",
       "      <td>0.195106</td>\n",
       "    </tr>\n",
       "    <tr>\n",
       "      <th>std</th>\n",
       "      <td>3259.987999</td>\n",
       "      <td>3.555191e+05</td>\n",
       "      <td>44581.226267</td>\n",
       "      <td>19.388551</td>\n",
       "      <td>9.495772</td>\n",
       "      <td>102.128195</td>\n",
       "      <td>102.761127</td>\n",
       "      <td>8.844284</td>\n",
       "      <td>1267.624380</td>\n",
       "      <td>2196.719361</td>\n",
       "      <td>...</td>\n",
       "      <td>0.302231</td>\n",
       "      <td>0.295725</td>\n",
       "      <td>0.270734</td>\n",
       "      <td>0.270734</td>\n",
       "      <td>0.494762</td>\n",
       "      <td>0.494762</td>\n",
       "      <td>0.494762</td>\n",
       "      <td>0.396290</td>\n",
       "      <td>0.396290</td>\n",
       "      <td>0.396290</td>\n",
       "    </tr>\n",
       "    <tr>\n",
       "      <th>min</th>\n",
       "      <td>10.000000</td>\n",
       "      <td>1.450000e+02</td>\n",
       "      <td>108.000000</td>\n",
       "      <td>1.000000</td>\n",
       "      <td>1.000000</td>\n",
       "      <td>0.000000</td>\n",
       "      <td>5.000000</td>\n",
       "      <td>2.000000</td>\n",
       "      <td>0.000000</td>\n",
       "      <td>0.000000</td>\n",
       "      <td>...</td>\n",
       "      <td>0.000000</td>\n",
       "      <td>0.000000</td>\n",
       "      <td>0.000000</td>\n",
       "      <td>0.000000</td>\n",
       "      <td>0.000000</td>\n",
       "      <td>0.000000</td>\n",
       "      <td>0.000000</td>\n",
       "      <td>0.000000</td>\n",
       "      <td>0.000000</td>\n",
       "      <td>0.000000</td>\n",
       "    </tr>\n",
       "    <tr>\n",
       "      <th>25%</th>\n",
       "      <td>110.000000</td>\n",
       "      <td>1.200900e+04</td>\n",
       "      <td>7000.000000</td>\n",
       "      <td>1.000000</td>\n",
       "      <td>30.000000</td>\n",
       "      <td>18.000000</td>\n",
       "      <td>50.000000</td>\n",
       "      <td>8.000000</td>\n",
       "      <td>40.000000</td>\n",
       "      <td>47.000000</td>\n",
       "      <td>...</td>\n",
       "      <td>0.000000</td>\n",
       "      <td>0.000000</td>\n",
       "      <td>1.000000</td>\n",
       "      <td>0.000000</td>\n",
       "      <td>0.000000</td>\n",
       "      <td>0.000000</td>\n",
       "      <td>0.000000</td>\n",
       "      <td>1.000000</td>\n",
       "      <td>1.000000</td>\n",
       "      <td>0.000000</td>\n",
       "    </tr>\n",
       "    <tr>\n",
       "      <th>50%</th>\n",
       "      <td>269.000000</td>\n",
       "      <td>2.567000e+04</td>\n",
       "      <td>15000.000000</td>\n",
       "      <td>1.000000</td>\n",
       "      <td>30.000000</td>\n",
       "      <td>50.000000</td>\n",
       "      <td>84.000000</td>\n",
       "      <td>11.000000</td>\n",
       "      <td>92.000000</td>\n",
       "      <td>143.000000</td>\n",
       "      <td>...</td>\n",
       "      <td>0.000000</td>\n",
       "      <td>0.000000</td>\n",
       "      <td>1.000000</td>\n",
       "      <td>0.000000</td>\n",
       "      <td>0.000000</td>\n",
       "      <td>0.000000</td>\n",
       "      <td>1.000000</td>\n",
       "      <td>1.000000</td>\n",
       "      <td>1.000000</td>\n",
       "      <td>0.000000</td>\n",
       "    </tr>\n",
       "    <tr>\n",
       "      <th>75%</th>\n",
       "      <td>716.000000</td>\n",
       "      <td>7.669400e+04</td>\n",
       "      <td>30000.000000</td>\n",
       "      <td>3.000000</td>\n",
       "      <td>35.000000</td>\n",
       "      <td>113.000000</td>\n",
       "      <td>148.000000</td>\n",
       "      <td>16.000000</td>\n",
       "      <td>198.000000</td>\n",
       "      <td>502.000000</td>\n",
       "      <td>...</td>\n",
       "      <td>0.000000</td>\n",
       "      <td>0.000000</td>\n",
       "      <td>1.000000</td>\n",
       "      <td>0.000000</td>\n",
       "      <td>1.000000</td>\n",
       "      <td>1.000000</td>\n",
       "      <td>1.000000</td>\n",
       "      <td>1.000000</td>\n",
       "      <td>1.000000</td>\n",
       "      <td>0.000000</td>\n",
       "    </tr>\n",
       "    <tr>\n",
       "      <th>max</th>\n",
       "      <td>219382.000000</td>\n",
       "      <td>2.033899e+07</td>\n",
       "      <td>950000.000000</td>\n",
       "      <td>1274.000000</td>\n",
       "      <td>60.000000</td>\n",
       "      <td>1697.000000</td>\n",
       "      <td>1736.000000</td>\n",
       "      <td>253.000000</td>\n",
       "      <td>95583.000000</td>\n",
       "      <td>123799.000000</td>\n",
       "      <td>...</td>\n",
       "      <td>1.000000</td>\n",
       "      <td>1.000000</td>\n",
       "      <td>1.000000</td>\n",
       "      <td>1.000000</td>\n",
       "      <td>1.000000</td>\n",
       "      <td>1.000000</td>\n",
       "      <td>1.000000</td>\n",
       "      <td>1.000000</td>\n",
       "      <td>1.000000</td>\n",
       "      <td>1.000000</td>\n",
       "    </tr>\n",
       "  </tbody>\n",
       "</table>\n",
       "<p>8 rows × 50 columns</p>\n",
       "</div>"
      ],
      "text/plain": [
       "            backersR       fundedR          goalR  percentage_fundedR  \\\n",
       "count   24725.000000  2.472500e+04   24725.000000        24725.000000   \n",
       "mean      955.292781  9.715229e+04   26956.475470            4.633812   \n",
       "std      3259.987999  3.555191e+05   44581.226267           19.388551   \n",
       "min        10.000000  1.450000e+02     108.000000            1.000000   \n",
       "25%       110.000000  1.200900e+04    7000.000000            1.000000   \n",
       "50%       269.000000  2.567000e+04   15000.000000            1.000000   \n",
       "75%       716.000000  7.669400e+04   30000.000000            3.000000   \n",
       "max    219382.000000  2.033899e+07  950000.000000         1274.000000   \n",
       "\n",
       "          durationR  start_deliveryR  total_durationR  level_pledgesR  \\\n",
       "count  24725.000000     24725.000000     24725.000000    24725.000000   \n",
       "mean      32.593488        84.254843       116.848332       13.213994   \n",
       "std        9.495772       102.128195       102.761127        8.844284   \n",
       "min        1.000000         0.000000         5.000000        2.000000   \n",
       "25%       30.000000        18.000000        50.000000        8.000000   \n",
       "50%       30.000000        50.000000        84.000000       11.000000   \n",
       "75%       35.000000       113.000000       148.000000       16.000000   \n",
       "max       60.000000      1697.000000      1736.000000      253.000000   \n",
       "\n",
       "       new.backersR  existing.backersR  ...     year.2018     year.2019  \\\n",
       "count  24725.000000       24725.000000  ...  24725.000000  24725.000000   \n",
       "mean     265.704348         689.588433  ...      0.101678      0.096825   \n",
       "std     1267.624380        2196.719361  ...      0.302231      0.295725   \n",
       "min        0.000000           0.000000  ...      0.000000      0.000000   \n",
       "25%       40.000000          47.000000  ...      0.000000      0.000000   \n",
       "50%       92.000000         143.000000  ...      0.000000      0.000000   \n",
       "75%      198.000000         502.000000  ...      0.000000      0.000000   \n",
       "max    95583.000000      123799.000000  ...      1.000000      1.000000   \n",
       "\n",
       "       first_videoTrue  first_videoFalse  projects_launchedF  \\\n",
       "count     24725.000000      24725.000000        24725.000000   \n",
       "mean          0.920364          0.079636            0.427745   \n",
       "std           0.270734          0.270734            0.494762   \n",
       "min           0.000000          0.000000            0.000000   \n",
       "25%           1.000000          0.000000            0.000000   \n",
       "50%           1.000000          0.000000            0.000000   \n",
       "75%           1.000000          0.000000            1.000000   \n",
       "max           1.000000          1.000000            1.000000   \n",
       "\n",
       "       projects_launchedYes  projects_launchedNo  projects_backedF  \\\n",
       "count          24725.000000         24725.000000      24725.000000   \n",
       "mean               0.427745             0.572255          0.804894   \n",
       "std                0.494762             0.494762          0.396290   \n",
       "min                0.000000             0.000000          0.000000   \n",
       "25%                0.000000             0.000000          1.000000   \n",
       "50%                0.000000             1.000000          1.000000   \n",
       "75%                1.000000             1.000000          1.000000   \n",
       "max                1.000000             1.000000          1.000000   \n",
       "\n",
       "       projects_backedYes  projects_backedNo  \n",
       "count        24725.000000       24725.000000  \n",
       "mean             0.804894           0.195106  \n",
       "std              0.396290           0.396290  \n",
       "min              0.000000           0.000000  \n",
       "25%              1.000000           0.000000  \n",
       "50%              1.000000           0.000000  \n",
       "75%              1.000000           0.000000  \n",
       "max              1.000000           1.000000  \n",
       "\n",
       "[8 rows x 50 columns]"
      ]
     },
     "execution_count": 7,
     "metadata": {},
     "output_type": "execute_result"
    }
   ],
   "source": [
    "original_df.describe()"
   ]
  },
  {
   "cell_type": "markdown",
   "id": "80379697",
   "metadata": {},
   "source": [
    "## Visualisation"
   ]
  },
  {
   "cell_type": "markdown",
   "id": "aaf7bdb6",
   "metadata": {},
   "source": [
    "### Filtering data for plotting"
   ]
  },
  {
   "cell_type": "code",
   "execution_count": 8,
   "id": "762fbbfb",
   "metadata": {},
   "outputs": [],
   "source": [
    "# Calculate the total number of backers for each category\n",
    "total_backers_per_category = original_df.groupby('categoryrGroupF')['backersR'].sum().reset_index()\n",
    "\n",
    "# Sort categories for better visualization\n",
    "total_backers_per_category = total_backers_per_category.sort_values(by='backersR')\n",
    "\n",
    "# Calculate the total number of backers for each combination of year and category\n",
    "total_backers_per_year_category = original_df.groupby(['yearR', 'categoryrGroupF'])['backersR'].sum().reset_index()"
   ]
  },
  {
   "cell_type": "code",
   "execution_count": 12,
   "id": "77b5b8ec",
   "metadata": {},
   "outputs": [
    {
     "name": "stderr",
     "output_type": "stream",
     "text": [
      "/var/folders/pb/6_vrwxc52v961l43hsx63tsc0000gn/T/ipykernel_30287/2551958297.py:16: UserWarning: FixedFormatter should only be used together with FixedLocator\n",
      "  plt.gca().set_yticklabels(y_labels)\n"
     ]
    },
    {
     "data": {
      "image/png": "[encoded data removed]",
      "text/plain": [
       "<Figure size 720x432 with 1 Axes>"
      ]
     },
     "metadata": {
      "needs_background": "light"
     },
     "output_type": "display_data"
    }
   ],
   "source": [
    "# Total Number of Backers per Category Plotting\n",
    "# Plotting\n",
    "plt.figure(figsize=(10, 6)) \n",
    "plt.bar(total_backers_per_category['categoryrGroupF'].astype(str), total_backers_per_category['backersR'])\n",
    "\n",
    "plt.title('Total Number of Backers per Category')\n",
    "plt.xlabel('Category')\n",
    "plt.ylabel('Total Backers') \n",
    "\n",
    "plt.xticks(rotation=45)  \n",
    "plt.ticklabel_format(style='plain', axis='y')  # Use plain format to avoid scientific notation\n",
    "\n",
    "y_ticks = plt.gca().get_yticks()\n",
    "y_labels = [f'{int(y/1e6)} Million' if y >= 1e6 else f'{int(y)}' for y in y_ticks]\n",
    "plt.gca().set_yticklabels(y_labels)\n",
    "\n",
    "plt.show()"
   ]
  },
  {
   "cell_type": "code",
   "execution_count": 13,
   "id": "c4881075",
   "metadata": {},
   "outputs": [
    {
     "name": "stderr",
     "output_type": "stream",
     "text": [
      "/var/folders/pb/6_vrwxc52v961l43hsx63tsc0000gn/T/ipykernel_30287/2310478184.py:25: UserWarning: FixedFormatter should only be used together with FixedLocator\n",
      "  ax.set_yticklabels([f'{y:,.0f}' for y in ax.get_yticks()])\n"
     ]
    },
    {
     "data": {
      "image/png": "[encoded data removed]",
      "text/plain": [
       "<Figure size 864x504 with 1 Axes>"
      ]
     },
     "metadata": {},
     "output_type": "display_data"
    }
   ],
   "source": [
    "# Total Number of Backers per Category Plotting - Futuristc style\n",
    "\n",
    "with plt.style.context('dark_background'):\n",
    "\n",
    "    fig, ax = plt.subplots(figsize=(12, 7))\n",
    "    colors = plt.cm.viridis(np.linspace(0, 1, len(total_backers_per_category)))\n",
    "    bars = ax.bar(total_backers_per_category['categoryrGroupF'], total_backers_per_category['backersR'], color=colors, edgecolor='cyan')\n",
    "\n",
    "    ax.set_title('Total Number of Backers per Category', fontsize=20, color='cyan', fontweight='bold', fontname='Futura')\n",
    "    ax.set_xlabel('Category', fontsize=14, color='cyan', fontweight='bold', fontname='Futura')\n",
    "    ax.set_ylabel('Total Backers', fontsize=14, color='cyan', fontweight='bold', fontname='Futura')\n",
    "\n",
    "    ax.tick_params(axis='both', colors='cyan', which='both') \n",
    "    plt.xticks(rotation=45, fontsize=12, fontname='Futura')\n",
    "    plt.yticks(fontsize=12, fontname='Futura')\n",
    "    ax.set_yticklabels([f'{y:,.0f}' for y in ax.get_yticks()])\n",
    "\n",
    "    for bar in bars:\n",
    "        bar.set_edgecolor('cyan')\n",
    "        \n",
    "    plt.tight_layout()\n",
    "    plt.show()\n"
   ]
  },
  {
   "cell_type": "code",
   "execution_count": 15,
   "id": "b7a03b74",
   "metadata": {
    "scrolled": false
   },
   "outputs": [
    {
     "ename": "NameError",
     "evalue": "name 'ticker' is not defined",
     "output_type": "error",
     "traceback": [
      "\u001b[0;31m---------------------------------------------------------------------------\u001b[0m",
      "\u001b[0;31mNameError\u001b[0m                                 Traceback (most recent call last)",
      "\u001b[0;32m/var/folders/pb/6_vrwxc52v961l43hsx63tsc0000gn/T/ipykernel_30287/1029611809.py\u001b[0m in \u001b[0;36m<module>\u001b[0;34m\u001b[0m\n\u001b[1;32m     25\u001b[0m \u001b[0;34m\u001b[0m\u001b[0m\n\u001b[1;32m     26\u001b[0m \u001b[0;31m# Use Matplotlib's FuncFormatter to format y-tick labels with thousands separator\u001b[0m\u001b[0;34m\u001b[0m\u001b[0;34m\u001b[0m\u001b[0;34m\u001b[0m\u001b[0m\n\u001b[0;32m---> 27\u001b[0;31m \u001b[0max\u001b[0m\u001b[0;34m.\u001b[0m\u001b[0myaxis\u001b[0m\u001b[0;34m.\u001b[0m\u001b[0mset_major_formatter\u001b[0m\u001b[0;34m(\u001b[0m\u001b[0mticker\u001b[0m\u001b[0;34m.\u001b[0m\u001b[0mFuncFormatter\u001b[0m\u001b[0;34m(\u001b[0m\u001b[0;32mlambda\u001b[0m \u001b[0mx\u001b[0m\u001b[0;34m,\u001b[0m \u001b[0mp\u001b[0m\u001b[0;34m:\u001b[0m \u001b[0mformat\u001b[0m\u001b[0;34m(\u001b[0m\u001b[0mint\u001b[0m\u001b[0;34m(\u001b[0m\u001b[0mx\u001b[0m\u001b[0;34m)\u001b[0m\u001b[0;34m,\u001b[0m \u001b[0;34m','\u001b[0m\u001b[0;34m)\u001b[0m\u001b[0;34m)\u001b[0m\u001b[0;34m)\u001b[0m\u001b[0;34m\u001b[0m\u001b[0;34m\u001b[0m\u001b[0m\n\u001b[0m\u001b[1;32m     28\u001b[0m \u001b[0;34m\u001b[0m\u001b[0m\n\u001b[1;32m     29\u001b[0m \u001b[0mplt\u001b[0m\u001b[0;34m.\u001b[0m\u001b[0mlegend\u001b[0m\u001b[0;34m(\u001b[0m\u001b[0mtitle\u001b[0m\u001b[0;34m=\u001b[0m\u001b[0;34m'Year'\u001b[0m\u001b[0;34m,\u001b[0m \u001b[0mloc\u001b[0m\u001b[0;34m=\u001b[0m\u001b[0;34m'upper left'\u001b[0m\u001b[0;34m)\u001b[0m\u001b[0;34m\u001b[0m\u001b[0;34m\u001b[0m\u001b[0m\n",
      "\u001b[0;31mNameError\u001b[0m: name 'ticker' is not defined"
     ]
    },
    {
     "data": {
      "image/png": "[encoded data removed]",
      "text/plain": [
       "<Figure size 1008x576 with 1 Axes>"
      ]
     },
     "metadata": {
      "needs_background": "light"
     },
     "output_type": "display_data"
    }
   ],
   "source": [
    "# Total Number of Backers per Category by Year Plotting\n",
    "\n",
    "pivot_df = total_backers_per_year_category.pivot(index='categoryrGroupF', columns='yearR', values='backersR')\n",
    "\n",
    "fig, ax = plt.subplots(figsize=(14, 8))\n",
    "\n",
    "categories = pivot_df.index\n",
    "years = pivot_df.columns\n",
    "\n",
    "bar_width = 0.8 / len(years)  \n",
    "index = np.arange(len(categories))  \n",
    "\n",
    "# Plotting each year's bars\n",
    "for i, year in enumerate(years):\n",
    "    bars = plt.bar(index + i * bar_width, pivot_df[year], bar_width, label=str(year))\n",
    "\n",
    "plt.title('Total Number of Backers per Category by Year')\n",
    "plt.xlabel('Category')\n",
    "plt.xticks(index + bar_width * (len(years) - 1) / 2, categories, rotation=45)\n",
    "plt.ylabel('Total Backers')\n",
    "\n",
    "ax.yaxis.set_major_formatter(ticker.FuncFormatter(lambda x, p: format(int(x), ',')))\n",
    "\n",
    "plt.legend(title='Year', loc='upper left')\n",
    "plt.tight_layout()\n",
    "plt.show()\n"
   ]
  },
  {
   "cell_type": "markdown",
   "id": "0369ee1d",
   "metadata": {},
   "source": [
    "# Feature engineering and selection"
   ]
  },
  {
   "cell_type": "code",
   "execution_count": 17,
   "id": "6b2ff5aa",
   "metadata": {
    "collapsed": true
   },
   "outputs": [
    {
     "data": {
      "text/plain": [
       "['categoryR',\n",
       " 'countryR',\n",
       " 'backersR',\n",
       " 'fundedR',\n",
       " 'goalR',\n",
       " 'percentage_fundedR',\n",
       " 'durationR',\n",
       " 'start_deliveryR',\n",
       " 'total_durationR',\n",
       " 'level_pledgesR',\n",
       " 'new.backersR',\n",
       " 'existing.backersR',\n",
       " 'updateR',\n",
       " 'yearR',\n",
       " 'currencyR',\n",
       " 'first_videoR',\n",
       " 'projects_launchedR',\n",
       " 'projects_backedR',\n",
       " 'categoryrGroup',\n",
       " 'categoryrGroupF',\n",
       " 'categoryGroupFO',\n",
       " 'Art',\n",
       " 'Comics',\n",
       " 'Crafts',\n",
       " 'Dance',\n",
       " 'Design',\n",
       " 'Fashion',\n",
       " 'FilmVideo',\n",
       " 'Food',\n",
       " 'Games',\n",
       " 'Journalism',\n",
       " 'Music',\n",
       " 'Photography',\n",
       " 'Publishing',\n",
       " 'Technology',\n",
       " 'Theater',\n",
       " 'fundedR.log',\n",
       " 'goalR.log',\n",
       " 'percentage_fundedR100',\n",
       " 'year.2011',\n",
       " 'year.2012',\n",
       " 'year.2013',\n",
       " 'year.2014',\n",
       " 'year.2015',\n",
       " 'year.2016',\n",
       " 'year.2017',\n",
       " 'year.2018',\n",
       " 'year.2019',\n",
       " 'first_videoF',\n",
       " 'first_videoTrue',\n",
       " 'first_videoFalse',\n",
       " 'projects_launchedF',\n",
       " 'projects_launchedYes',\n",
       " 'projects_launchedNo',\n",
       " 'projects_backedF',\n",
       " 'projects_backedYes',\n",
       " 'projects_backedNo']"
      ]
     },
     "execution_count": 17,
     "metadata": {},
     "output_type": "execute_result"
    }
   ],
   "source": [
    "df.columns.tolist()"
   ]
  },
  {
   "cell_type": "code",
   "execution_count": 7,
   "id": "649c7ffe",
   "metadata": {},
   "outputs": [],
   "source": [
    "# List of columns to keep\n",
    "columns_to_keep = [\n",
    "    'backersR', 'fundedR', 'goalR', 'categoryrGroupF',\n",
    "    'percentage_fundedR', 'durationR', 'start_deliveryR', 'total_durationR', \n",
    "    'level_pledgesR', 'new.backersR', 'existing.backersR', 'updateR', \n",
    "    'projects_launchedR', 'projects_backedR', 'yearR', \n",
    "]\n",
    "\n",
    "# Reduce df\n",
    "df = df.loc[:, columns_to_keep]"
   ]
  },
  {
   "cell_type": "code",
   "execution_count": 8,
   "id": "f1dfe176",
   "metadata": {},
   "outputs": [],
   "source": [
    "# Create behavioural science naming\n",
    "\n",
    "# Dictionary behavioural science mapping\n",
    "rename_dict = {\n",
    "    'percentage_fundedR': 'Herd_Behaviour',\n",
    "    'durationR': '1_Present_Bias',\n",
    "    'total_durationR': '2_Present_Bias',\n",
    "    'projects_launchedR': '1_Commitment',\n",
    "    'projects_backedR': '2_Commitment'\n",
    "}\n",
    "\n",
    "# Rename the columns in directly\n",
    "df.rename(columns=rename_dict, inplace=True)"
   ]
  },
  {
   "cell_type": "code",
   "execution_count": 9,
   "id": "204cc0d1",
   "metadata": {},
   "outputs": [
    {
     "data": {
      "text/plain": [
       "(24725, 15)"
      ]
     },
     "execution_count": 9,
     "metadata": {},
     "output_type": "execute_result"
    }
   ],
   "source": [
    "df.shape"
   ]
  },
  {
   "cell_type": "code",
   "execution_count": 20,
   "id": "3b52f66b",
   "metadata": {
    "collapsed": true
   },
   "outputs": [
    {
     "name": "stdout",
     "output_type": "stream",
     "text": [
      "<class 'pandas.core.frame.DataFrame'>\n",
      "RangeIndex: 24725 entries, 0 to 24724\n",
      "Data columns (total 15 columns):\n",
      " #   Column             Non-Null Count  Dtype  \n",
      "---  ------             --------------  -----  \n",
      " 0   backersR           24725 non-null  int64  \n",
      " 1   fundedR            24725 non-null  int64  \n",
      " 2   goalR              24725 non-null  float64\n",
      " 3   categoryrGroupF    24725 non-null  object \n",
      " 4   Herd_Behaviour     24725 non-null  int64  \n",
      " 5   1_Present_Bias     24725 non-null  int64  \n",
      " 6   start_deliveryR    24725 non-null  int64  \n",
      " 7   2_Present_Bias     24725 non-null  int64  \n",
      " 8   level_pledgesR     24725 non-null  int64  \n",
      " 9   new.backersR       24725 non-null  int64  \n",
      " 10  existing.backersR  24725 non-null  int64  \n",
      " 11  updateR            24725 non-null  int64  \n",
      " 12  1_Commitment       24725 non-null  int64  \n",
      " 13  2_Commitment       24725 non-null  int64  \n",
      " 14  yearR              24725 non-null  int64  \n",
      "dtypes: float64(1), int64(13), object(1)\n",
      "memory usage: 2.8+ MB\n"
     ]
    }
   ],
   "source": [
    "# checking for null values\n",
    "df.info()"
   ]
  },
  {
   "cell_type": "code",
   "execution_count": 62,
   "id": "00e02d22",
   "metadata": {},
   "outputs": [],
   "source": [
    "# df['yearR'] = df['yearR'].astype('str')"
   ]
  },
  {
   "cell_type": "markdown",
   "id": "40a51d82",
   "metadata": {},
   "source": [
    "## One-Hot Encoding\n",
    "A one hot encoding allows the representation of categorical data to be numerical."
   ]
  },
  {
   "cell_type": "code",
   "execution_count": 63,
   "id": "09a9d886",
   "metadata": {
    "collapsed": true
   },
   "outputs": [
    {
     "data": {
      "text/html": [
       "<div>\n",
       "<style scoped>\n",
       "    .dataframe tbody tr th:only-of-type {\n",
       "        vertical-align: middle;\n",
       "    }\n",
       "\n",
       "    .dataframe tbody tr th {\n",
       "        vertical-align: top;\n",
       "    }\n",
       "\n",
       "    .dataframe thead th {\n",
       "        text-align: right;\n",
       "    }\n",
       "</style>\n",
       "<table border=\"1\" class=\"dataframe\">\n",
       "  <thead>\n",
       "    <tr style=\"text-align: right;\">\n",
       "      <th></th>\n",
       "      <th>backersR</th>\n",
       "      <th>fundedR</th>\n",
       "      <th>goalR</th>\n",
       "      <th>Herd_Behaviour</th>\n",
       "      <th>1_Present_Bias</th>\n",
       "      <th>start_deliveryR</th>\n",
       "      <th>2_Present_Bias</th>\n",
       "      <th>level_pledgesR</th>\n",
       "      <th>new.backersR</th>\n",
       "      <th>existing.backersR</th>\n",
       "      <th>...</th>\n",
       "      <th>categoryrGroupF_Theater</th>\n",
       "      <th>yearR_2011</th>\n",
       "      <th>yearR_2012</th>\n",
       "      <th>yearR_2013</th>\n",
       "      <th>yearR_2014</th>\n",
       "      <th>yearR_2015</th>\n",
       "      <th>yearR_2016</th>\n",
       "      <th>yearR_2017</th>\n",
       "      <th>yearR_2018</th>\n",
       "      <th>yearR_2019</th>\n",
       "    </tr>\n",
       "  </thead>\n",
       "  <tbody>\n",
       "    <tr>\n",
       "      <th>0</th>\n",
       "      <td>1992</td>\n",
       "      <td>1924018</td>\n",
       "      <td>50000.0</td>\n",
       "      <td>38</td>\n",
       "      <td>30</td>\n",
       "      <td>38</td>\n",
       "      <td>68</td>\n",
       "      <td>20</td>\n",
       "      <td>547</td>\n",
       "      <td>1445</td>\n",
       "      <td>...</td>\n",
       "      <td>0</td>\n",
       "      <td>0</td>\n",
       "      <td>0</td>\n",
       "      <td>0</td>\n",
       "      <td>0</td>\n",
       "      <td>0</td>\n",
       "      <td>1</td>\n",
       "      <td>0</td>\n",
       "      <td>0</td>\n",
       "      <td>0</td>\n",
       "    </tr>\n",
       "    <tr>\n",
       "      <th>1</th>\n",
       "      <td>22840</td>\n",
       "      <td>1365105</td>\n",
       "      <td>60000.0</td>\n",
       "      <td>23</td>\n",
       "      <td>8</td>\n",
       "      <td>14</td>\n",
       "      <td>22</td>\n",
       "      <td>24</td>\n",
       "      <td>10022</td>\n",
       "      <td>12818</td>\n",
       "      <td>...</td>\n",
       "      <td>0</td>\n",
       "      <td>0</td>\n",
       "      <td>0</td>\n",
       "      <td>0</td>\n",
       "      <td>0</td>\n",
       "      <td>0</td>\n",
       "      <td>0</td>\n",
       "      <td>1</td>\n",
       "      <td>0</td>\n",
       "      <td>0</td>\n",
       "    </tr>\n",
       "    <tr>\n",
       "      <th>2</th>\n",
       "      <td>5030</td>\n",
       "      <td>1226811</td>\n",
       "      <td>38000.0</td>\n",
       "      <td>32</td>\n",
       "      <td>30</td>\n",
       "      <td>73</td>\n",
       "      <td>103</td>\n",
       "      <td>18</td>\n",
       "      <td>1635</td>\n",
       "      <td>3395</td>\n",
       "      <td>...</td>\n",
       "      <td>0</td>\n",
       "      <td>0</td>\n",
       "      <td>0</td>\n",
       "      <td>0</td>\n",
       "      <td>1</td>\n",
       "      <td>0</td>\n",
       "      <td>0</td>\n",
       "      <td>0</td>\n",
       "      <td>0</td>\n",
       "      <td>0</td>\n",
       "    </tr>\n",
       "    <tr>\n",
       "      <th>3</th>\n",
       "      <td>3254</td>\n",
       "      <td>1068328</td>\n",
       "      <td>160000.0</td>\n",
       "      <td>7</td>\n",
       "      <td>30</td>\n",
       "      <td>56</td>\n",
       "      <td>86</td>\n",
       "      <td>14</td>\n",
       "      <td>790</td>\n",
       "      <td>2464</td>\n",
       "      <td>...</td>\n",
       "      <td>0</td>\n",
       "      <td>0</td>\n",
       "      <td>0</td>\n",
       "      <td>0</td>\n",
       "      <td>0</td>\n",
       "      <td>1</td>\n",
       "      <td>0</td>\n",
       "      <td>0</td>\n",
       "      <td>0</td>\n",
       "      <td>0</td>\n",
       "    </tr>\n",
       "    <tr>\n",
       "      <th>4</th>\n",
       "      <td>3290</td>\n",
       "      <td>1003874</td>\n",
       "      <td>200000.0</td>\n",
       "      <td>5</td>\n",
       "      <td>30</td>\n",
       "      <td>84</td>\n",
       "      <td>114</td>\n",
       "      <td>14</td>\n",
       "      <td>621</td>\n",
       "      <td>2669</td>\n",
       "      <td>...</td>\n",
       "      <td>0</td>\n",
       "      <td>0</td>\n",
       "      <td>0</td>\n",
       "      <td>0</td>\n",
       "      <td>0</td>\n",
       "      <td>0</td>\n",
       "      <td>0</td>\n",
       "      <td>1</td>\n",
       "      <td>0</td>\n",
       "      <td>0</td>\n",
       "    </tr>\n",
       "  </tbody>\n",
       "</table>\n",
       "<p>5 rows × 37 columns</p>\n",
       "</div>"
      ],
      "text/plain": [
       "   backersR  fundedR     goalR  Herd_Behaviour  1_Present_Bias  \\\n",
       "0      1992  1924018   50000.0              38              30   \n",
       "1     22840  1365105   60000.0              23               8   \n",
       "2      5030  1226811   38000.0              32              30   \n",
       "3      3254  1068328  160000.0               7              30   \n",
       "4      3290  1003874  200000.0               5              30   \n",
       "\n",
       "   start_deliveryR  2_Present_Bias  level_pledgesR  new.backersR  \\\n",
       "0               38              68              20           547   \n",
       "1               14              22              24         10022   \n",
       "2               73             103              18          1635   \n",
       "3               56              86              14           790   \n",
       "4               84             114              14           621   \n",
       "\n",
       "   existing.backersR  ...  categoryrGroupF_Theater  yearR_2011  yearR_2012  \\\n",
       "0               1445  ...                        0           0           0   \n",
       "1              12818  ...                        0           0           0   \n",
       "2               3395  ...                        0           0           0   \n",
       "3               2464  ...                        0           0           0   \n",
       "4               2669  ...                        0           0           0   \n",
       "\n",
       "   yearR_2013  yearR_2014  yearR_2015  yearR_2016  yearR_2017  yearR_2018  \\\n",
       "0           0           0           0           1           0           0   \n",
       "1           0           0           0           0           1           0   \n",
       "2           0           1           0           0           0           0   \n",
       "3           0           0           1           0           0           0   \n",
       "4           0           0           0           0           1           0   \n",
       "\n",
       "   yearR_2019  \n",
       "0           0  \n",
       "1           0  \n",
       "2           0  \n",
       "3           0  \n",
       "4           0  \n",
       "\n",
       "[5 rows x 37 columns]"
      ]
     },
     "execution_count": 63,
     "metadata": {},
     "output_type": "execute_result"
    }
   ],
   "source": [
    "# One-hot encode categorical features\n",
    "df = pd.get_dummies(df)\n",
    "df.head(5)"
   ]
  },
  {
   "cell_type": "code",
   "execution_count": 64,
   "id": "7027136d",
   "metadata": {},
   "outputs": [
    {
     "name": "stdout",
     "output_type": "stream",
     "text": [
      "Shape of features after one-hot encoding: (24725, 37)\n"
     ]
    }
   ],
   "source": [
    "print('Shape of features after one-hot encoding:', df.shape)"
   ]
  },
  {
   "cell_type": "code",
   "execution_count": 18,
   "id": "93ca61cc",
   "metadata": {
    "collapsed": true
   },
   "outputs": [
    {
     "data": {
      "text/plain": [
       "['fundedR',\n",
       " 'goalR',\n",
       " 'Herd_Behaviour',\n",
       " '1_Present_Bias',\n",
       " 'start_deliveryR',\n",
       " '2_Present_Bias',\n",
       " 'level_pledgesR',\n",
       " 'new.backersR',\n",
       " 'existing.backersR',\n",
       " 'updateR',\n",
       " '1_Commitment',\n",
       " '2_Commitment',\n",
       " 'yearR',\n",
       " 'categoryrGroupF_Art',\n",
       " 'categoryrGroupF_Comics',\n",
       " 'categoryrGroupF_Crafts',\n",
       " 'categoryrGroupF_Dance',\n",
       " 'categoryrGroupF_Design',\n",
       " 'categoryrGroupF_Fashion',\n",
       " 'categoryrGroupF_FilmVideo',\n",
       " 'categoryrGroupF_Food',\n",
       " 'categoryrGroupF_Games',\n",
       " 'categoryrGroupF_Journalism',\n",
       " 'categoryrGroupF_Music',\n",
       " 'categoryrGroupF_Photography',\n",
       " 'categoryrGroupF_Publishing',\n",
       " 'categoryrGroupF_Technology',\n",
       " 'categoryrGroupF_Theater']"
      ]
     },
     "execution_count": 18,
     "metadata": {},
     "output_type": "execute_result"
    }
   ],
   "source": [
    "df.columns.tolist()"
   ]
  },
  {
   "cell_type": "markdown",
   "id": "8355ea00",
   "metadata": {},
   "source": [
    "## Features and Labels"
   ]
  },
  {
   "cell_type": "markdown",
   "id": "a2ed9c37",
   "metadata": {},
   "source": [
    "# Random Forest Regressor"
   ]
  },
  {
   "cell_type": "code",
   "execution_count": 149,
   "id": "4630a2af",
   "metadata": {},
   "outputs": [
    {
     "data": {
      "text/plain": [
       "(24725, 37)"
      ]
     },
     "execution_count": 149,
     "metadata": {},
     "output_type": "execute_result"
    }
   ],
   "source": [
    "df.shape"
   ]
  },
  {
   "cell_type": "code",
   "execution_count": 10,
   "id": "2ad8a00d",
   "metadata": {},
   "outputs": [],
   "source": [
    "df_regress = df.copy()\n",
    "\n",
    "# Features and lables for Random Forest Regressor\n",
    "\n",
    "# Labels\n",
    "y_regress = df_regress['backersR']\n",
    "\n",
    "df_regress = df_regress.drop('backersR', axis = 1)\n",
    "\n",
    "feature_list = list(df_regress.columns)"
   ]
  },
  {
   "cell_type": "code",
   "execution_count": 12,
   "id": "f1a2f464",
   "metadata": {},
   "outputs": [
    {
     "data": {
      "text/plain": [
       "(24725, 14)"
      ]
     },
     "execution_count": 12,
     "metadata": {},
     "output_type": "execute_result"
    }
   ],
   "source": [
    "df_regress.shape"
   ]
  },
  {
   "cell_type": "code",
   "execution_count": 152,
   "id": "404b6513",
   "metadata": {},
   "outputs": [
    {
     "name": "stdout",
     "output_type": "stream",
     "text": [
      "Training Features Shape: (19780, 36)\n",
      "Training Labels Shape: (19780,)\n",
      "Testing Features Shape: (4945, 36)\n",
      "Testing Labels Shape: (4945,)\n"
     ]
    }
   ],
   "source": [
    "from sklearn.model_selection import train_test_split\n",
    "\n",
    "X_train, X_test, y_train, y_test = train_test_split(df_regress, y_regress, test_size=0.2, random_state=42)\n",
    "\n",
    "print('Training Features Shape:', X_train.shape)\n",
    "print('Training Labels Shape:', y_train.shape)\n",
    "print('Testing Features Shape:', X_test.shape)\n",
    "print('Testing Labels Shape:', y_test.shape)"
   ]
  },
  {
   "cell_type": "code",
   "execution_count": 153,
   "id": "a2e12f2a",
   "metadata": {},
   "outputs": [
    {
     "data": {
      "text/plain": [
       "RandomForestRegressor(n_estimators=1000, random_state=42)"
      ]
     },
     "execution_count": 153,
     "metadata": {},
     "output_type": "execute_result"
    }
   ],
   "source": [
    "from sklearn.ensemble import RandomForestRegressor\n",
    "\n",
    " \n",
    "rf = RandomForestRegressor(n_estimators= 1000, random_state=42)\n",
    "rf.fit(X_train, y_train)"
   ]
  },
  {
   "cell_type": "code",
   "execution_count": 156,
   "id": "bfbc784a",
   "metadata": {},
   "outputs": [
    {
     "name": "stdout",
     "output_type": "stream",
     "text": [
      "Mean Absolute Error: 17.0 backers.\n"
     ]
    }
   ],
   "source": [
    "# Predictions\n",
    "predictions = rf.predict(X_test)\n",
    "\n",
    "# Calculate the absolute errors\n",
    "errors = abs(predictions - y_test)\n",
    "\n",
    "print('Mean Absolute Error:', round(np.mean(errors), 0), 'backers.')"
   ]
  },
  {
   "cell_type": "code",
   "execution_count": 157,
   "id": "02168e40",
   "metadata": {},
   "outputs": [
    {
     "name": "stdout",
     "output_type": "stream",
     "text": [
      "Accuracy: 99.4 %.\n"
     ]
    }
   ],
   "source": [
    "# Calculate mean absolute percentage error (MAPE)\n",
    "mape = 100 * (errors / y_test)\n",
    "\n",
    "# Calculate and display accuracy\n",
    "accuracy = 100 - np.mean(mape)\n",
    "print('Accuracy:', round(accuracy, 2), '%.')\n"
   ]
  },
  {
   "cell_type": "code",
   "execution_count": 158,
   "id": "a3e1e403",
   "metadata": {
    "collapsed": true
   },
   "outputs": [
    {
     "name": "stdout",
     "output_type": "stream",
     "text": [
      "Variable: existing.backersR    Importance: 0.79\n",
      "Variable: new.backersR         Importance: 0.17\n",
      "Variable: fundedR              Importance: 0.01\n",
      "Variable: Herd_Behaviour       Importance: 0.01\n",
      "Variable: goalR                Importance: 0.0\n",
      "Variable: 1_Present_Bias       Importance: 0.0\n",
      "Variable: start_deliveryR      Importance: 0.0\n",
      "Variable: 2_Present_Bias       Importance: 0.0\n",
      "Variable: level_pledgesR       Importance: 0.0\n",
      "Variable: updateR              Importance: 0.0\n",
      "Variable: 1_Commitment         Importance: 0.0\n",
      "Variable: 2_Commitment         Importance: 0.0\n",
      "Variable: categoryrGroupF_Art  Importance: 0.0\n",
      "Variable: categoryrGroupF_Comics Importance: 0.0\n",
      "Variable: categoryrGroupF_Crafts Importance: 0.0\n",
      "Variable: categoryrGroupF_Dance Importance: 0.0\n",
      "Variable: categoryrGroupF_Design Importance: 0.0\n",
      "Variable: categoryrGroupF_Fashion Importance: 0.0\n",
      "Variable: categoryrGroupF_FilmVideo Importance: 0.0\n",
      "Variable: categoryrGroupF_Food Importance: 0.0\n",
      "Variable: categoryrGroupF_Games Importance: 0.0\n",
      "Variable: categoryrGroupF_Journalism Importance: 0.0\n",
      "Variable: categoryrGroupF_Music Importance: 0.0\n",
      "Variable: categoryrGroupF_Photography Importance: 0.0\n",
      "Variable: categoryrGroupF_Publishing Importance: 0.0\n",
      "Variable: categoryrGroupF_Technology Importance: 0.0\n",
      "Variable: categoryrGroupF_Theater Importance: 0.0\n",
      "Variable: yearR_2011           Importance: 0.0\n",
      "Variable: yearR_2012           Importance: 0.0\n",
      "Variable: yearR_2013           Importance: 0.0\n",
      "Variable: yearR_2014           Importance: 0.0\n",
      "Variable: yearR_2015           Importance: 0.0\n",
      "Variable: yearR_2016           Importance: 0.0\n",
      "Variable: yearR_2017           Importance: 0.0\n",
      "Variable: yearR_2018           Importance: 0.0\n",
      "Variable: yearR_2019           Importance: 0.0\n"
     ]
    }
   ],
   "source": [
    "feature_list = list(X_train.columns)\n",
    "\n",
    "importances = rf.feature_importances_\n",
    "feature_importances = [(feature, round(importance, 2)) for feature, importance in zip(feature_list, importances)]\n",
    "\n",
    "feature_importances = sorted(feature_importances, key=lambda x: x[1], reverse=True)\n",
    "\n",
    "[print('Variable: {:20} Importance: {}'.format(*pair)) for pair in feature_importances];"
   ]
  },
  {
   "cell_type": "code",
   "execution_count": 159,
   "id": "457cd7a5",
   "metadata": {},
   "outputs": [
    {
     "data": {
      "image/png": "[encoded data removed]",
      "text/plain": [
       "<Figure size 720x576 with 1 Axes>"
      ]
     },
     "metadata": {},
     "output_type": "display_data"
    }
   ],
   "source": [
    "feature_list = list(X_train.columns)\n",
    "\n",
    "importances = rf.feature_importances_\n",
    "\n",
    "indices = np.argsort(importances)[::-1]\n",
    "\n",
    "sorted_feature_list = [feature_list[i] for i in indices]\n",
    "sorted_importances = importances[indices]\n",
    "\n",
    "# Plot\n",
    "target_variable_name = y_regress.name\n",
    "plt.figure(figsize=(10, 8))\n",
    "plt.barh(range(len(indices)), sorted_importances, align='center')\n",
    "plt.yticks(range(len(indices)), sorted_feature_list)\n",
    "\n",
    "plt.xlabel(f'Importance in Predicting {target_variable_name}')\n",
    "plt.ylabel('Feature')\n",
    "plt.title('Feature Importances')\n",
    "plt.gca().invert_yaxis()  # Invert y-axis to have the most important feature at the top\n",
    "plt.show()\n"
   ]
  },
  {
   "cell_type": "code",
   "execution_count": null,
   "id": "58a63e0c",
   "metadata": {},
   "outputs": [],
   "source": []
  },
  {
   "cell_type": "markdown",
   "id": "803c706b",
   "metadata": {},
   "source": [
    "## Random forest Classifier"
   ]
  },
  {
   "cell_type": "code",
   "execution_count": 139,
   "id": "f10884cd",
   "metadata": {},
   "outputs": [],
   "source": [
    "df_classifier = original_df.copy()"
   ]
  },
  {
   "cell_type": "code",
   "execution_count": 140,
   "id": "c28bf6eb",
   "metadata": {},
   "outputs": [],
   "source": [
    "columns_to_keep = [\n",
    "    'backersR', 'fundedR', 'goalR', 'categoryrGroupF',\n",
    "    'percentage_fundedR', 'durationR', 'start_deliveryR', 'total_durationR', \n",
    "    'level_pledgesR', 'new.backersR', 'existing.backersR', 'updateR', \n",
    "    'projects_launchedR', 'projects_backedR',\n",
    "]\n",
    "\n",
    "f\n",
    "df_classifier = df_classifier.loc[:, columns_to_keep]\n",
    "\n",
    "# Dictionary behavioural science mapping\n",
    "rename_dict = {\n",
    "    'percentage_fundedR': 'Herd_Behaviour',\n",
    "    'durationR': '1_Present_Bias',\n",
    "    'total_durationR': '2_Present_Bias',\n",
    "    'projects_launchedR': '1_Commitment',\n",
    "    'projects_backedR': '2_Commitment'\n",
    "}\n",
    "\n",
    "# Rename the columns in Bdf directly\n",
    "df_classifier.rename(columns=rename_dict, inplace=True)"
   ]
  },
  {
   "cell_type": "code",
   "execution_count": 141,
   "id": "f24402de",
   "metadata": {},
   "outputs": [
    {
     "data": {
      "text/plain": [
       "(24725, 14)"
      ]
     },
     "execution_count": 141,
     "metadata": {},
     "output_type": "execute_result"
    }
   ],
   "source": [
    "df_classifier.shape"
   ]
  },
  {
   "cell_type": "code",
   "execution_count": 142,
   "id": "73d23b08",
   "metadata": {
    "scrolled": true
   },
   "outputs": [
    {
     "name": "stdout",
     "output_type": "stream",
     "text": [
      "<class 'pandas.core.frame.DataFrame'>\n",
      "RangeIndex: 24725 entries, 0 to 24724\n",
      "Data columns (total 14 columns):\n",
      " #   Column             Non-Null Count  Dtype  \n",
      "---  ------             --------------  -----  \n",
      " 0   backersR           24725 non-null  int64  \n",
      " 1   fundedR            24725 non-null  int64  \n",
      " 2   goalR              24725 non-null  float64\n",
      " 3   categoryrGroupF    24725 non-null  object \n",
      " 4   Herd_Behaviour     24725 non-null  int64  \n",
      " 5   1_Present_Bias     24725 non-null  int64  \n",
      " 6   start_deliveryR    24725 non-null  int64  \n",
      " 7   2_Present_Bias     24725 non-null  int64  \n",
      " 8   level_pledgesR     24725 non-null  int64  \n",
      " 9   new.backersR       24725 non-null  int64  \n",
      " 10  existing.backersR  24725 non-null  int64  \n",
      " 11  updateR            24725 non-null  int64  \n",
      " 12  1_Commitment       24725 non-null  int64  \n",
      " 13  2_Commitment       24725 non-null  int64  \n",
      "dtypes: float64(1), int64(12), object(1)\n",
      "memory usage: 2.6+ MB\n"
     ]
    }
   ],
   "source": [
    "df_classifier.info()"
   ]
  },
  {
   "cell_type": "code",
   "execution_count": 143,
   "id": "a69ad3af",
   "metadata": {},
   "outputs": [],
   "source": [
    "# Labels\n",
    "y_classifier = df_classifier['categoryrGroupF']\n",
    "\n",
    "df_classifier = df_classifier.drop('categoryrGroupF', axis = 1)\n",
    "\n",
    "feature_list = list(df_classifier.columns)"
   ]
  },
  {
   "cell_type": "code",
   "execution_count": 144,
   "id": "3f3be2a2",
   "metadata": {},
   "outputs": [
    {
     "data": {
      "text/plain": [
       "(24725, 13)"
      ]
     },
     "execution_count": 144,
     "metadata": {},
     "output_type": "execute_result"
    }
   ],
   "source": [
    "df_classifier.shape"
   ]
  },
  {
   "cell_type": "code",
   "execution_count": 145,
   "id": "c3684444",
   "metadata": {},
   "outputs": [
    {
     "name": "stdout",
     "output_type": "stream",
     "text": [
      "Training Features Shape: (19780, 13)\n",
      "Training Labels Shape: (19780,)\n",
      "Testing Features Shape: (4945, 13)\n",
      "Testing Labels Shape: (4945,)\n"
     ]
    }
   ],
   "source": [
    "from sklearn.model_selection import train_test_split\n",
    "\n",
    "X_train, X_test, y_train, y_test = train_test_split(df_classifier, y_classifier, test_size=0.2, random_state=42)\n",
    "\n",
    "print('Training Features Shape:', X_train.shape)\n",
    "print('Training Labels Shape:', y_train.shape)\n",
    "print('Testing Features Shape:', X_test.shape)\n",
    "print('Testing Labels Shape:', y_test.shape)"
   ]
  },
  {
   "cell_type": "code",
   "execution_count": 147,
   "id": "e38f2bcc",
   "metadata": {},
   "outputs": [
    {
     "name": "stdout",
     "output_type": "stream",
     "text": [
      "Original features: Index(['backersR', 'fundedR', 'goalR', 'Herd_Behaviour', '1_Present_Bias',\n",
      "       'start_deliveryR', '2_Present_Bias', 'level_pledgesR', 'new.backersR',\n",
      "       'existing.backersR', 'updateR', '1_Commitment', '2_Commitment'],\n",
      "      dtype='object')\n",
      "\n",
      "Selected features: Index(['backersR', 'fundedR', 'goalR', 'existing.backersR'], dtype='object')\n"
     ]
    },
    {
     "data": {
      "image/png": "[encoded data removed]",
      "text/plain": [
       "<Figure size 720x432 with 1 Axes>"
      ]
     },
     "metadata": {},
     "output_type": "display_data"
    }
   ],
   "source": [
    "from sklearn.ensemble import RandomForestClassifier\n",
    "from sklearn.feature_selection import SelectFromModel\n",
    "\n",
    "# random forest model on training data\n",
    "rf = RandomForestClassifier(n_jobs=-1, class_weight='balanced', max_depth=5)\n",
    "rf.fit(X_train, y_train)\n",
    "\n",
    "# feature selection\n",
    "model = SelectFromModel(rf, prefit=True)\n",
    "X_train_transformed = model.transform(X_train)\n",
    "\n",
    "original_features = df_classifier.columns\n",
    "print(f\"Original features: {original_features}\")\n",
    "\n",
    "# Select the features\n",
    "features_bool = model.get_support()\n",
    "\n",
    "selected_features = original_features[features_bool]\n",
    "print(f\"\\nSelected features: {selected_features}\")\n",
    "\n",
    "# DataFrame for feature importance\n",
    "feature_importance = pd.DataFrame({\n",
    "    \"feature\": selected_features,\n",
    "    \"importance\": rf.feature_importances_[features_bool]\n",
    "})\n",
    "\n",
    "# Plot\n",
    "target_variable_name = y_classifier.name\n",
    "plt.figure(figsize=(10, 6))\n",
    "plt.barh(feature_importance[\"feature\"], feature_importance[\"importance\"])\n",
    "plt.xlabel(f'Importance in Predicting {target_variable_name}')\n",
    "plt.ylabel('Feature')\n",
    "plt.title('Feature Importance')\n",
    "\n",
    "plt.show()\n"
   ]
  },
  {
   "cell_type": "code",
   "execution_count": null,
   "id": "e8bf3e7e",
   "metadata": {},
   "outputs": [],
   "source": []
  },
  {
   "cell_type": "markdown",
   "id": "b57a0488",
   "metadata": {},
   "source": [
    "# Standardization"
   ]
  },
  {
   "cell_type": "code",
   "execution_count": 127,
   "id": "cd59e918",
   "metadata": {},
   "outputs": [
    {
     "data": {
      "image/png": "[encoded data removed]",
      "text/plain": [
       "<Figure size 720x360 with 1 Axes>"
      ]
     },
     "metadata": {
      "needs_background": "light"
     },
     "output_type": "display_data"
    }
   ],
   "source": [
    "import matplotlib.pyplot as plt\n",
    "\n",
    "# Orignal dataset: Duration feature = 1Present bias\n",
    "plt.figure(figsize=(10,5))\n",
    "plt.hist(df['1_Present_Bias'], bins=30, alpha=0.5, label='Duration')\n",
    "plt.legend(prop={'size': 16})\n",
    "plt.title('Histogram with durationR')\n",
    "plt.xlabel('DurationR')\n",
    "plt.ylabel('Count')\n",
    "plt.show()"
   ]
  },
  {
   "cell_type": "code",
   "execution_count": 238,
   "id": "cf9d97b3",
   "metadata": {},
   "outputs": [
    {
     "name": "stderr",
     "output_type": "stream",
     "text": [
      "/var/folders/pb/6_vrwxc52v961l43hsx63tsc0000gn/T/ipykernel_70485/2633754157.py:5: SettingWithCopyWarning: \n",
      "A value is trying to be set on a copy of a slice from a DataFrame.\n",
      "Try using .loc[row_indexer,col_indexer] = value instead\n",
      "\n",
      "See the caveats in the documentation: https://pandas.pydata.org/pandas-docs/stable/user_guide/indexing.html#returning-a-view-versus-a-copy\n",
      "  X_train['1_Present_Bias'] = standardizer.fit_transform(X_train[['1_Present_Bias']])\n",
      "/var/folders/pb/6_vrwxc52v961l43hsx63tsc0000gn/T/ipykernel_70485/2633754157.py:6: SettingWithCopyWarning: \n",
      "A value is trying to be set on a copy of a slice from a DataFrame.\n",
      "Try using .loc[row_indexer,col_indexer] = value instead\n",
      "\n",
      "See the caveats in the documentation: https://pandas.pydata.org/pandas-docs/stable/user_guide/indexing.html#returning-a-view-versus-a-copy\n",
      "  X_test['1_Present_Bias'] = standardizer.transform(X_test[['1_Present_Bias']])\n"
     ]
    },
    {
     "data": {
      "image/png": "[encoded data removed]",
      "text/plain": [
       "<Figure size 720x360 with 1 Axes>"
      ]
     },
     "metadata": {
      "needs_background": "light"
     },
     "output_type": "display_data"
    }
   ],
   "source": [
    "from sklearn.preprocessing import StandardScaler\n",
    "\n",
    "# Standardize 'durationR'\n",
    "X_train['1_Present_Bias'] = standardizer.fit_transform(X_train[['1_Present_Bias']])\n",
    "X_test['1_Present_Bias'] = standardizer.transform(X_test[['1_Present_Bias']])\n",
    "\n",
    "# Plotting\n",
    "plt.figure(figsize=(10,5))\n",
    "plt.hist(X_train['1_Present_Bias'], bins=30, alpha=0.5, label='Standardized')\n",
    "plt.legend(prop={'size': 16})\n",
    "plt.title('Histogram with Standardized 1_Present_Bias')\n",
    "plt.xlabel('Standardized 1_Present_Bias')\n",
    "plt.ylabel('Count')\n",
    "plt.show()\n"
   ]
  },
  {
   "cell_type": "code",
   "execution_count": 242,
   "id": "03e03fd8",
   "metadata": {},
   "outputs": [
    {
     "name": "stdout",
     "output_type": "stream",
     "text": [
      "(19780, 36)\n",
      "(4945, 36)\n"
     ]
    }
   ],
   "source": [
    "print(X_train.shape)\n",
    "print(X_test.shape)"
   ]
  },
  {
   "cell_type": "markdown",
   "id": "d3092efa",
   "metadata": {},
   "source": [
    "## Normalization"
   ]
  },
  {
   "cell_type": "code",
   "execution_count": 240,
   "id": "ff92833d",
   "metadata": {},
   "outputs": [
    {
     "name": "stdout",
     "output_type": "stream",
     "text": [
      "Checking X_train...\n",
      "Column 'goalR' has no non-positive values.\n",
      "Column 'fundedR' has no non-positive values.\n",
      "\n",
      "Checking X_test...\n",
      "Column 'goalR' has no non-positive values.\n",
      "Column 'fundedR' has no non-positive values.\n"
     ]
    }
   ],
   "source": [
    "def check_non_positive_values(df, column_names):\n",
    "    for column_name in column_names:\n",
    "        non_positive_count = (df[column_name] <= 0).sum()\n",
    "        if non_positive_count > 0:\n",
    "            print(f\"Column '{column_name}' contains {non_positive_count} non-positive values.\")\n",
    "        else:\n",
    "            print(f\"Column '{column_name}' has no non-positive values.\")\n",
    "\n",
    "columns_to_check = ['goalR', 'fundedR']\n",
    "\n",
    "print(\"Checking X_train...\")\n",
    "check_non_positive_values(X_train, columns_to_check)\n",
    "\n",
    "print(\"\\nChecking X_test...\")\n",
    "check_non_positive_values(X_test, columns_to_check)\n",
    "\n"
   ]
  },
  {
   "cell_type": "code",
   "execution_count": 241,
   "id": "b182a9dc",
   "metadata": {},
   "outputs": [
    {
     "name": "stderr",
     "output_type": "stream",
     "text": [
      "/opt/anaconda3/lib/python3.8/site-packages/pandas/core/indexing.py:1773: SettingWithCopyWarning: \n",
      "A value is trying to be set on a copy of a slice from a DataFrame.\n",
      "Try using .loc[row_indexer,col_indexer] = value instead\n",
      "\n",
      "See the caveats in the documentation: https://pandas.pydata.org/pandas-docs/stable/user_guide/indexing.html#returning-a-view-versus-a-copy\n",
      "  self._setitem_single_column(ilocs[0], value, pi)\n"
     ]
    }
   ],
   "source": [
    "#Box-Cox Transformation\n",
    "from scipy import stats\n",
    "\n",
    "X_train.loc[:, 'goalR'] = stats.boxcox(X_train['goalR'])[0]\n",
    "X_test.loc[:, 'goalR'] = stats.boxcox(X_test['goalR'])[0]\n",
    "\n",
    "X_train.loc[:, 'fundedR'] = stats.boxcox(X_train['fundedR'])[0]\n",
    "X_test.loc[:, 'fundedR'] = stats.boxcox(X_test['fundedR'])[0]"
   ]
  },
  {
   "cell_type": "code",
   "execution_count": 239,
   "id": "3466c47b",
   "metadata": {},
   "outputs": [
    {
     "name": "stdout",
     "output_type": "stream",
     "text": [
      "(19780, 36)\n",
      "(4945, 36)\n"
     ]
    }
   ],
   "source": [
    "print(X_train.shape)\n",
    "print(X_test.shape)"
   ]
  },
  {
   "cell_type": "markdown",
   "id": "0a622f04",
   "metadata": {},
   "source": [
    "This normalized range shows that the most important feature contributes up to 10% (or 0.10 when normalized) to the model's predictive accuracy. This is a relatively high contribution in the context of multiple features, indicating that this particular feature plays a significant role in the model's decisions. The highest score being 0.12 means that no single feature overwhelmingly dominates the model's decision-making process; instead, several features contribute to varying degrees."
   ]
  }
 ],
 "metadata": {
  "kernelspec": {
   "display_name": "Python 3 (ipykernel)",
   "language": "python",
   "name": "python3"
  },
  "language_info": {
   "codemirror_mode": {
    "name": "ipython",
    "version": 3
   },
   "file_extension": ".py",
   "mimetype": "text/x-python",
   "name": "python",
   "nbconvert_exporter": "python",
   "pygments_lexer": "ipython3",
   "version": "3.11.5"
  },
  "toc": {
   "base_numbering": 1,
   "nav_menu": {},
   "number_sections": true,
   "sideBar": true,
   "skip_h1_title": false,
   "title_cell": "Table of Contents",
   "title_sidebar": "Contents",
   "toc_cell": false,
   "toc_position": {
    "height": "calc(100% - 180px)",
    "left": "10px",
    "top": "150px",
    "width": "292px"
   },
   "toc_section_display": true,
   "toc_window_display": false
  }
 },
 "nbformat": 4,
 "nbformat_minor": 5
}
